{
 "cells": [
  {
   "cell_type": "code",
   "execution_count": null,
   "id": "6d8eb3f2",
   "metadata": {},
   "outputs": [],
   "source": [
    "import pandas as pd\n",
    "import numpy as np\n",
    "import matplotlib.pyplot as plt\n",
    "import seaborn as sns"
   ]
  },
  {
   "cell_type": "code",
   "execution_count": null,
   "id": "6a154ef3-4ce0-45d5-b239-55a294b3fa8c",
   "metadata": {},
   "outputs": [],
   "source": [
    "team = esports2023[esports2023[\"position\"] == \"team\"].reset_index(drop = True).drop(\"position\", axis = 1)"
   ]
  },
  {
   "cell_type": "code",
   "execution_count": null,
   "id": "97809439",
   "metadata": {},
   "outputs": [],
   "source": [
    "esports2023 = pd.read_csv(\"2023_LoL_esports_match_data_from_OraclesElixir.csv\")\n",
    "esports2024 = pd.read_csv(\"2024_LoL_esports_match_data_from_OraclesElixir.csv\")"
   ]
  },
  {
   "cell_type": "markdown",
   "id": "540fde9b",
   "metadata": {},
   "source": [
    "### Preliminary EDA and Data Cleaning"
   ]
  },
  {
   "cell_type": "markdown",
   "id": "03becfb4",
   "metadata": {},
   "source": [
    "Make sure we get data that is \"complete\" by OraclesElixir standards"
   ]
  },
  {
   "cell_type": "code",
   "execution_count": null,
   "id": "120406f9",
   "metadata": {},
   "outputs": [],
   "source": [
    "esports2023.drop(esports2023[esports2023[\"datacompleteness\"] != \"complete\"].index, inplace = True)\n",
    "esports2024.drop(esports2024[esports2024[\"datacompleteness\"] != \"complete\"].index, inplace = True)"
   ]
  },
  {
   "cell_type": "markdown",
   "id": "8f6dceb5",
   "metadata": {},
   "source": [
    "Filter only by major regions. Since LPL is all incomplete, we will just not have LPL statistics"
   ]
  },
  {
   "cell_type": "code",
   "execution_count": null,
   "id": "e3c21598",
   "metadata": {},
   "outputs": [],
   "source": [
    "esports2023 = esports2023[(esports2023[\"league\"] == \"LCS\") | (esports2023[\"league\"] == \"LEC\")]\n",
    "esports2024 = esports2024[(esports2024[\"league\"] == \"LCS\") | (esports2024[\"league\"] == \"LEC\")]"
   ]
  },
  {
   "cell_type": "markdown",
   "id": "fe640392",
   "metadata": {},
   "source": [
    "Since we are only interested in predicting matches given early game statistics, let's only look at the columns that are helpful in that. Furthermore, let's take away the opponent stats so that it seems like every game in this data set is its own separate game (which we know is to be false)."
   ]
  },
  {
   "cell_type": "code",
   "execution_count": null,
   "id": "a016d9b5",
   "metadata": {},
   "outputs": [],
   "source": [
    "np.array([esports2023.columns])"
   ]
  },
  {
   "cell_type": "markdown",
   "id": "a7dc82a7-4fa1-48df-a414-affe5bcf1a49",
   "metadata": {},
   "source": [
    "#### 2024 data cleaning"
   ]
  },
  {
   "cell_type": "markdown",
   "id": "ed73ec04-1b62-49c2-a5e1-0e20bed0580e",
   "metadata": {},
   "source": [
    "### 2023"
   ]
  },
  {
   "cell_type": "markdown",
   "id": "308abfae",
   "metadata": {},
   "source": [
    "The most obvious explanation as to why the columns have NaNs is simply because the team did not get that particular objective. As such, we will replace those with 0s."
   ]
  },
  {
   "cell_type": "code",
   "execution_count": null,
   "id": "197ca968",
   "metadata": {},
   "outputs": [],
   "source": [
    "esports2023.fillna(0, inplace = True)\n",
    "esports2024.fillna(0, inplace = True)\n",
    "\n",
    "esports2023.replace(\"Blue\", 0, inplace = True)\n",
    "esports2023.replace(\"Red\", 1, inplace = True)\n",
    "\n",
    "esports2024.replace(\"Blue\", 0, inplace = True)\n",
    "esports2024.replace(\"Red\", 1, inplace = True)"
   ]
  },
  {
   "cell_type": "code",
   "execution_count": null,
   "id": "681a4ad5-8ad2-4a77-8da8-61959d8a59eb",
   "metadata": {},
   "outputs": [],
   "source": [
    "champion_list_2023 = esports2023.groupby('gameid')['champion'].apply(list)\n",
    "teamname_list_2023 = esports2023.groupby('gameid')['teamname'].apply(list)\n",
    "\n",
    "i = 0\n",
    "for k, v in champion_list_2023.items():\n",
    "    esports2023.loc[(esports2023['gameid'] == k) & (esports2023['side'] == 0) & (esports2023['position'] == 'team'), 'champ1'] = v[0]\n",
    "    esports2023.loc[(esports2023['gameid'] == k) & (esports2023['side'] == 0) & (esports2023['position'] == 'team'), 'champ2'] = v[1]\n",
    "    esports2023.loc[(esports2023['gameid'] == k) & (esports2023['side'] == 0) & (esports2023['position'] == 'team'), 'champ3'] = v[2]\n",
    "    esports2023.loc[(esports2023['gameid'] == k) & (esports2023['side'] == 0) & (esports2023['position'] == 'team'), 'champ4'] = v[3]\n",
    "    esports2023.loc[(esports2023['gameid'] == k) & (esports2023['side'] == 0) & (esports2023['position'] == 'team'), 'champ5'] = v[4]\n",
    "    esports2023.loc[(esports2023['gameid'] == k) & (esports2023['side'] == 0) & (esports2023['position'] == 'team'), 'oppchamp1'] = v[5]\n",
    "    esports2023.loc[(esports2023['gameid'] == k) & (esports2023['side'] == 0) & (esports2023['position'] == 'team'), 'oppchamp2'] = v[6]\n",
    "    esports2023.loc[(esports2023['gameid'] == k) & (esports2023['side'] == 0) & (esports2023['position'] == 'team'), 'oppchamp3'] = v[7]\n",
    "    esports2023.loc[(esports2023['gameid'] == k) & (esports2023['side'] == 0) & (esports2023['position'] == 'team'), 'oppchamp4'] = v[8]\n",
    "    esports2023.loc[(esports2023['gameid'] == k) & (esports2023['side'] == 0) & (esports2023['position'] == 'team'), 'oppchamp5'] = v[9]\n",
    "    esports2023.loc[(esports2023['gameid'] == k) & (esports2023['side'] == 0) & (esports2023['position'] == 'team'), 'oppteamname'] = teamname_list_2023[i][-1]\n",
    "    i += 1\n",
    "# weird gameid ordering"
   ]
  },
  {
   "cell_type": "code",
   "execution_count": null,
   "id": "80e5214a",
   "metadata": {},
   "outputs": [],
   "source": [
    "esports2023 = esports2023[[\"result\",\n",
    "                           \"gameid\",\n",
    "                           \"champion\",\n",
    "                           \"teamname\",\n",
    "                           \"side\",\n",
    "                           \"position\",\n",
    "                           \"playoffs\",\n",
    "                           \"game\",\n",
    "                           \"teamkills\",\n",
    "                           \"teamdeaths\",\n",
    "                           \"assists\",\n",
    "                           \"firstblood\",\n",
    "                           \"firstdragon\",\n",
    "                           \"dragons\",\n",
    "                           \"opp_dragons\",\n",
    "                           \"heralds\",\n",
    "                           \"opp_heralds\",\n",
    "                           \"barons\",\n",
    "                           \"opp_barons\",\n",
    "                           \"firstherald\",\n",
    "                           \"firsttower\",\n",
    "                           \"towers\",\n",
    "                           \"firstbloodvictim\"\n",
    "                          ]]"
   ]
  },
  {
   "cell_type": "code",
   "execution_count": null,
   "id": "2732ec15",
   "metadata": {},
   "outputs": [],
   "source": [
    "from copy import deepcopy\n",
    "\n",
    "team2023 = esports2023[esports2023[\"position\"] == \"team\"].reset_index(drop = True).drop(\"position\", axis = 1)\n",
    "team2023 = team.drop('gameid', axis=1)"
   ]
  },
  {
   "cell_type": "code",
   "execution_count": null,
   "id": "2321e8aa-6a1c-498f-9146-959e916f89cb",
   "metadata": {},
   "outputs": [],
   "source": [
    "team2023.dropna(inplace= True)\n",
    "#team = team.drop('champion', axis=1)\n",
    "#team = team.drop('playoffs', axis=1)\n",
    "team2023 = team.drop('side', axis=1)"
   ]
  },
  {
   "cell_type": "code",
   "execution_count": null,
   "id": "2c725c1e",
   "metadata": {},
   "outputs": [],
   "source": [
    "#team.head(10)\n",
    "np.array(team.columns)"
   ]
  },
  {
   "cell_type": "code",
   "execution_count": null,
   "id": "cd05957d-1de1-473b-8fcb-c04405dfb1f5",
   "metadata": {},
   "outputs": [],
   "source": [
    "esports2023"
   ]
  },
  {
   "cell_type": "code",
   "execution_count": null,
   "id": "23cec17e-0e3a-4f0b-836a-6826195c8cfe",
   "metadata": {
    "scrolled": true
   },
   "outputs": [],
   "source": [
    "esports2024 = esports2024[[\"result\",\n",
    "                           \"gameid\",\n",
    "                           \"champion\",\n",
    "                           \"teamname\",\n",
    "                           \"side\",\n",
    "                           \"position\",\n",
    "                          # \"playoffs\",\n",
    "                          # \"game\",\n",
    "                          # \"teamkills\",\n",
    "                          # \"teamdeaths\",\n",
    "                          # \"assists\",\n",
    "                          # \"firstblood\",\n",
    "                          # \"firstdragon\",\n",
    "                          # \"dragons\",\n",
    "                          # \"opp_dragons\",\n",
    "                          # \"heralds\",\n",
    "                          # \"opp_heralds\",\n",
    "                          # \"barons\",\n",
    "                          # \"opp_barons\",\n",
    "                          # \"firstherald\",\n",
    "                          # \"firsttower\",\n",
    "                          # \"towers\",\n",
    "                          ]]\n",
    "\n",
    "esports2024.fillna(0, inplace = True)\n",
    "\n",
    "esports2024.replace(\"Blue\", 0, inplace = True)\n",
    "esports2024.replace(\"Red\", 1, inplace = True)\n",
    "\n",
    "champion_list_2024 = esports2024.groupby('gameid')['champion'].apply(list)\n",
    "teamname_list_2024 = esports2024.groupby('gameid')['teamname'].apply(list)\n",
    "j = 0\n",
    "for k, v in champion_list_2024.items():\n",
    "    esports2024.loc[(esports2024['gameid'] == k) & (esports2024['side'] == 0) & (esports2024['position'] == 'team'), 'champ1'] = v[0]\n",
    "    esports2024.loc[(esports2024['gameid'] == k) & (esports2024['side'] == 0) & (esports2024['position'] == 'team'), 'champ2'] = v[1]\n",
    "    esports2024.loc[(esports2024['gameid'] == k) & (esports2024['side'] == 0) & (esports2024['position'] == 'team'), 'champ3'] = v[2]\n",
    "    esports2024.loc[(esports2024['gameid'] == k) & (esports2024['side'] == 0) & (esports2024['position'] == 'team'), 'champ4'] = v[3]\n",
    "    esports2024.loc[(esports2024['gameid'] == k) & (esports2024['side'] == 0) & (esports2024['position'] == 'team'), 'champ5'] = v[4]\n",
    "    esports2024.loc[(esports2024['gameid'] == k) & (esports2024['side'] == 0) & (esports2024['position'] == 'team'), 'oppchamp1'] = v[5]\n",
    "    esports2024.loc[(esports2024['gameid'] == k) & (esports2024['side'] == 0) & (esports2024['position'] == 'team'), 'oppchamp2'] = v[6]\n",
    "    esports2024.loc[(esports2024['gameid'] == k) & (esports2024['side'] == 0) & (esports2024['position'] == 'team'), 'oppchamp3'] = v[7]\n",
    "    esports2024.loc[(esports2024['gameid'] == k) & (esports2024['side'] == 0) & (esports2024['position'] == 'team'), 'oppchamp4'] = v[8]\n",
    "    esports2024.loc[(esports2024['gameid'] == k) & (esports2024['side'] == 0) & (esports2024['position'] == 'team'), 'oppchamp5'] = v[9]\n",
    "    esports2024.loc[(esports2024['gameid'] == k) & (esports2024['side'] == 0) & (esports2024['position'] == 'team'), 'oppteamname'] = teamname_list_2024[j][-1]\n",
    "    j += 1\n",
    "\n",
    "team2024 = esports2024[esports2024[\"position\"] == \"team\"].reset_index(drop = True).drop(\"position\", axis = 1)\n",
    "team2024 = team2024.drop('gameid', axis=1)\n",
    "\n",
    "team2024.dropna(inplace= True)\n",
    "team2024 = team2024.drop('champion', axis=1)\n",
    "team2024 = team2024.drop('playoffs', axis=1)\n",
    "team2024 = team2024.drop('side', axis=1)"
   ]
  },
  {
   "cell_type": "markdown",
   "id": "107d359f",
   "metadata": {},
   "source": [
    "### Data Visualization"
   ]
  },
  {
   "cell_type": "markdown",
   "id": "b2f0fb07",
   "metadata": {},
   "source": [
    "How many times does Blue side win vs Red Side?"
   ]
  },
  {
   "cell_type": "code",
   "execution_count": null,
   "id": "99e8ce10-0274-4496-b990-cb386093b53b",
   "metadata": {},
   "outputs": [],
   "source": [
    "esports2023 = pd.read_csv(\"2023_LoL_esports_match_data_from_OraclesElixir.csv\")\n",
    "esports2023.drop(esports2023[esports2023[\"datacompleteness\"] != \"complete\"].index, inplace = True)\n",
    "esports2023 = esports2023[(esports2023[\"league\"] == \"LCS\") | (esports2023[\"league\"] == \"LEC\")]\n",
    "esports2023.fillna(0, inplace = True)\n",
    "esports2024.fillna(0, inplace = True)\n",
    "\n",
    "esports2023.replace(\"Blue\", 0, inplace = True)\n",
    "esports2023.replace(\"Red\", 1, inplace = True)\n",
    "\n",
    "esports2024.replace(\"Blue\", 0, inplace = True)\n",
    "esports2024.replace(\"Red\", 1, inplace = True)"
   ]
  },
  {
   "cell_type": "code",
   "execution_count": null,
   "id": "cce67ee6-a30c-4a69-94f4-1de4a1e0f97b",
   "metadata": {},
   "outputs": [],
   "source": [
    "esports2023 = esports2023[[\"result\",\n",
    "                           \"side\",\n",
    "                           \"position\",\n",
    "                           \"firstblood\",\n",
    "                           \"firstbloodvictim\",\n",
    "                           \"firstdragon\",\n",
    "                           \"firstherald\",\n",
    "                           \"firsttower\",\n",
    "                           \"golddiffat10\",\n",
    "                           \"xpdiffat10\",\n",
    "                           \"csdiffat10\",\n",
    "                           \"killsat10\",\n",
    "                           \"assistsat10\",\n",
    "                           \"deathsat10\"]]"
   ]
  },
  {
   "cell_type": "code",
   "execution_count": null,
   "id": "1cbb26e8-72b0-4fd1-97fd-2e3c2f3276f0",
   "metadata": {},
   "outputs": [],
   "source": [
    "top = esports2023[esports2023[\"position\"] == \"top\"].reset_index(drop = True).drop(\"position\", axis = 1)\n",
    "jng = esports2023[esports2023[\"position\"] == \"jng\"].reset_index(drop = True).drop(\"position\", axis = 1)\n",
    "mid = esports2023[esports2023[\"position\"] == \"mid\"].reset_index(drop = True).drop(\"position\", axis = 1)\n",
    "bot = esports2023[esports2023[\"position\"] == \"bot\"].reset_index(drop = True).drop(\"position\", axis = 1)\n",
    "sup = esports2023[esports2023[\"position\"] == \"sup\"].reset_index(drop = True).drop(\"position\", axis = 1)\n",
    "team = esports2023[esports2023[\"position\"] == \"team\"].reset_index(drop = True).drop(\"position\", axis = 1)"
   ]
  },
  {
   "cell_type": "code",
   "execution_count": null,
   "id": "ade497b7-ac2a-4cb8-93ea-c5c6eed78064",
   "metadata": {},
   "outputs": [],
   "source": [
    "def copy_over():\n",
    "    return lanes[\"top\"], lanes[\"jng\"], lanes[\"mid\"], lanes[\"bot\"], lanes[\"sup\"], lanes[\"team\"] "
   ]
  },
  {
   "cell_type": "markdown",
   "id": "68b1be8e-905c-45ac-9fdd-af90c7c7f2c4",
   "metadata": {},
   "source": [
    "Finally, notice how each game is not independent of each other, despite all the cleaning we have done. This is partly because we have information of each lane. The way I will fix this is by separating by lane."
   ]
  },
  {
   "cell_type": "code",
   "execution_count": null,
   "id": "40722379-20f4-4eb0-8a74-1ed50aad2d09",
   "metadata": {},
   "outputs": [],
   "source": [
    "lanes = {\"top\" : top,\n",
    "         \"jng\" : jng,\n",
    "         \"mid\" : mid,\n",
    "         \"bot\" : bot,\n",
    "         \"sup\" : sup,\n",
    "         \"team\" : team}"
   ]
  },
  {
   "cell_type": "code",
   "execution_count": null,
   "id": "56a0bef9-389e-4c65-8bd5-903b76080041",
   "metadata": {},
   "outputs": [],
   "source": [
    "for key in lanes:\n",
    "    print(\"First Dragon \" + str(key) + \" unique values: \" + str(lanes[key].firstdragon.unique()))\n",
    "    print(\"First Herald \" + str(key) + \" unique values: \" + str(lanes[key].firstherald.unique()))\n",
    "    print(\"First Tower \" + str(key) + \" unique values: \" + str(lanes[key].firsttower.unique()))\n",
    "    print(\"First Blood Victim \" + str(key) + \" unique values: \" + str(lanes[key].firstbloodvictim.unique()))\n",
    "    print(\"\\n\")"
   ]
  },
  {
   "cell_type": "code",
   "execution_count": null,
   "id": "5009e688-1adb-4fbb-94bd-d3aa77e0fab7",
   "metadata": {},
   "outputs": [],
   "source": [
    "for key in [key for key in lanes.keys() if key not in [\"team\"]]:\n",
    "    lanes[key].drop([\"firstdragon\", \"firstherald\", \"firsttower\"], axis = 1, inplace = True)"
   ]
  },
  {
   "cell_type": "code",
   "execution_count": null,
   "id": "b2c74660-18b4-4285-ac26-6e9944ad41b0",
   "metadata": {},
   "outputs": [],
   "source": [
    "lanes[\"team\"]"
   ]
  },
  {
   "cell_type": "code",
   "execution_count": null,
   "id": "442d1b78-2e87-4416-881b-e146418a257c",
   "metadata": {},
   "outputs": [],
   "source": [
    "lanes[\"team\"].drop(\"firstbloodvictim\", axis = 1, inplace = True)"
   ]
  },
  {
   "cell_type": "code",
   "execution_count": null,
   "id": "55da63e8-6527-431a-8a5a-a17a1f62513c",
   "metadata": {},
   "outputs": [],
   "source": [
    "top, jng, mid, bot, sup, team = copy_over()"
   ]
  },
  {
   "cell_type": "markdown",
   "id": "c3209dff-802a-48cd-b494-015261f85b93",
   "metadata": {},
   "source": [
    "Let's calculate blue side's win percentage"
   ]
  },
  {
   "cell_type": "code",
   "execution_count": null,
   "id": "9f4ff456",
   "metadata": {},
   "outputs": [],
   "source": [
    "winsbyside = team.groupby(\"side\").sum().reset_index()[[\"side\", \"result\"]]\n",
    "blue_wins = winsbyside.iloc[0][\"result\"]\n",
    "red_wins = winsbyside.iloc[1][\"result\"]"
   ]
  },
  {
   "cell_type": "code",
   "execution_count": null,
   "id": "b5af5e4b",
   "metadata": {},
   "outputs": [],
   "source": [
    "str(round(blue_wins/(blue_wins+red_wins) * 100, 2)) + '%'"
   ]
  },
  {
   "cell_type": "code",
   "execution_count": null,
   "id": "8ffd2142",
   "metadata": {},
   "outputs": [],
   "source": [
    "plt.bar(winsbyside[\"side\"], winsbyside[\"result\"])\n",
    "plt.xticks(winsbyside[\"side\"])\n",
    "plt.xlabel(\"Side\")\n",
    "plt.ylabel(\"Number of Wins\")\n",
    "plt.title(\"Blue Side vs Red Side Wins\")\n",
    "plt.savefig(\"./side selection vs wins./side_vs_num_wins_graph.png\", dpi = 150, bbox_inches=\"tight\", facecolor='white', transparent=False)\n",
    "plt.show()"
   ]
  },
  {
   "cell_type": "markdown",
   "id": "c703dd8c",
   "metadata": {},
   "source": [
    "What is the percentage of first blood succcess relative to winning or losing a match?"
   ]
  },
  {
   "cell_type": "code",
   "execution_count": null,
   "id": "1999910c",
   "metadata": {},
   "outputs": [],
   "source": [
    "ax = pd.crosstab(team.result, team.firstblood, normalize='index').plot.bar()\n",
    "ax.set_title(\"team first blood success\")\n",
    "ax.set_ylabel(\"percentage of games\")\n",
    "for c in ax.containers:\n",
    "    ax.bar_label(c)\n",
    "plt.savefig(\"./firstbloodrate vs wins./team first blood success.png\", dpi = 150, bbox_inches=\"tight\", facecolor='white', transparent=False)"
   ]
  },
  {
   "cell_type": "markdown",
   "id": "51d8446c",
   "metadata": {},
   "source": [
    "As expected, when a team gets first blood, they are more likely to win."
   ]
  },
  {
   "cell_type": "markdown",
   "id": "9a579db0",
   "metadata": {},
   "source": [
    "What about per role? What is the percentage of first blood success relative to winning or losing a match for each role?"
   ]
  },
  {
   "cell_type": "code",
   "execution_count": null,
   "id": "bef9256b",
   "metadata": {},
   "outputs": [],
   "source": [
    "def fbinfo(df, dfname):\n",
    "    ax = pd.crosstab(df.result, df.firstblood, normalize='index').plot.bar()\n",
    "    ax.set_title(dfname)\n",
    "    ax.set_ylabel(\"Percentage of Games\")\n",
    "    for c in ax.containers:\n",
    "        ax.bar_label(c)\n",
    "    plt.savefig(\"./firstbloodrate vs wins./\" + dfname + \".png\", dpi = 150, bbox_inches=\"tight\", facecolor='white', transparent=False)"
   ]
  },
  {
   "cell_type": "code",
   "execution_count": null,
   "id": "38d6911b",
   "metadata": {},
   "outputs": [],
   "source": [
    "for key in [key for key in lanes.keys() if key not in [\"team\"]]:\n",
    "    fbinfo(lanes[key], str(key) + \" first blood success\")"
   ]
  },
  {
   "cell_type": "markdown",
   "id": "2bb9e00f",
   "metadata": {},
   "source": [
    "Above are bar graphs that show the percentages of wins and losses relative to the first blood rate in each role. So for example, of all losses in the dataset (represented by the 0), around 86.7% did not have the top laner involved in the first blood while around 13.3% of lost games did have the top laner involved in the first bloods. Of all wins in the dataset (represented by the 1), around 80.8% did not have the top laner involved and around 19.2% did have the top laner involved.\n",
    "\n",
    "Looking at the trends of each graph, it is clear that the more first bloods a team has, the more likely they are to win. This can be for a variety of reasons. Better teams may just be more likely to score first bloods since they are better. Or it could be the fact that first bloods do, indeed, give a big enough advantage that allows teams to score the win.\n",
    "\n",
    "However, I am skeptical of the latter. While it is true that when a player scores first blood, they trend towards winning more than their counterparts, more often than not, a player does not score first blood and still wins the game (as evident by the fact that the blue bar in the wins for all roles is higher than the orange bar). This is definitely due to the fact that League of Legends is not a zero-sum game. There are many factors, other than first blood, that determine a win. Thus I am inclined to believe that first blood, by itself, is not a good indicator of games that are won. This, however, is for the team category (which takes into a whole team's first blood rate). It is obvious that when a team scores first blood, they are more likely to win: 58.6%. If the team does not score first blood, their chances of winning drop to 40.8% (if we were to eliminate all of variables). This is the only category where scoring a first blood leads to a higher likelihood of winning a game than not winning a game.\n",
    "\n",
    "Perhaps a more interesting thing to do is to compare between roles first blood rate between roles. Jungle is by far the role that is involved in the the most first bloods as evidenced by the tallter orange bar in wins in comparison to all the other roles. This makes sense, as junglers are the focal point of early games for competitive teams. If we were to try to predict whether or not a game is won or loss using only first bloods and roles, we should look at a jungler's capability to score that first kill for their team."
   ]
  },
  {
   "cell_type": "markdown",
   "id": "ccf5fca9",
   "metadata": {},
   "source": [
    "What is the percentage of getting the first dragon, first herald, or first tower relative to winning or losing a match?"
   ]
  },
  {
   "cell_type": "code",
   "execution_count": null,
   "id": "d1505116",
   "metadata": {},
   "outputs": [],
   "source": [
    "titles = [\"First Dragon\", \"First Herald\", \"First Tower\"]\n",
    "index = 0\n",
    "for column in team.columns[3:6]:\n",
    "    ax = pd.crosstab(team[\"result\"], team[column], normalize='index').plot.bar()\n",
    "    ax.set_ylabel(\"Percentage of Games\")\n",
    "    ax.set_title(titles[index])\n",
    "    for c in ax.containers:\n",
    "        ax.bar_label(c)\n",
    "    plt.savefig(\"./first objectives vs wins./\" + titles[index] + \".png\", dpi = 150, bbox_inches=\"tight\", facecolor='white', transparent=False)\n",
    "    index += 1"
   ]
  },
  {
   "cell_type": "markdown",
   "id": "0a85ee83",
   "metadata": {},
   "source": [
    "Of the games in the data set, 66.9% of the wins had the winning team score first dragon, 62.1% of the wins had the winning team score first herald, and 65.5% of wins had the winning team score first tower. This means that if we are to use these three categories to predict whether or not a team will win, we should first look at first tower, then first drake, and finally first herald. Furthermore, this shows us that first tower is one of the most important factors in winning games this season. When you score a first tower, you are more likely to win a game. This could be for a variety of reasons; it could be the fact that first towers do, indeed, lead teams to win more. However, what is more likely is that teams already have large leads (and thus were already projected to win) which lead them to getting the first tower. \n",
    "\n",
    "One suprising aspect of these graphs is how first herald and first tower do not seem to be that closely related. One would think that teams usually use first herald to take first tower. Thus, I would expect these two categories to be relatively close in percentages. However, getting first herald is the worst of the three objectives, with first dragon beating it by 5.3%.\n",
    "\n",
    "Speaking of close relatedness, what is the correlation between each column in our data sets?"
   ]
  },
  {
   "cell_type": "code",
   "execution_count": null,
   "id": "a50a4e1f",
   "metadata": {},
   "outputs": [],
   "source": [
    "team.columns"
   ]
  },
  {
   "cell_type": "code",
   "execution_count": null,
   "id": "01e26354",
   "metadata": {},
   "outputs": [],
   "source": [
    "plt.figure(figsize = (8, 8))\n",
    "plt.title(\"Team\")\n",
    "sns.heatmap(team.corr(), annot = True, cmap = \"rainbow\", annot_kws = {\"size\":8})\n",
    "plt.savefig(\"./heatmaps./team heatmap.png\", dpi = 150, bbox_inches=\"tight\", facecolor='white', transparent=False)"
   ]
  },
  {
   "cell_type": "markdown",
   "id": "93e4a3de",
   "metadata": {},
   "source": [
    "Some interesting things to point out in this correlation plot: of the wins, the golddiffat10 is the highest category correlated to wins at 0.42."
   ]
  },
  {
   "cell_type": "code",
   "execution_count": null,
   "id": "126cec49",
   "metadata": {},
   "outputs": [],
   "source": [
    "def createheatmaps(df, dfname):\n",
    "    plt.figure(figsize = (8, 8))\n",
    "    plt.title(dfname)\n",
    "    sns.heatmap(df.corr(), annot = True, cmap = \"rainbow\", annot_kws = {\"size\":8})\n",
    "    plt.savefig(\"./heatmaps./\" + dfname + \".png\", dpi = 150, bbox_inches=\"tight\", facecolor='white', transparent=False)"
   ]
  },
  {
   "cell_type": "code",
   "execution_count": null,
   "id": "b1251823",
   "metadata": {
    "scrolled": true
   },
   "outputs": [],
   "source": [
    "for key in [key for key in lanes.keys() if key not in [\"team\"]]:\n",
    "    createheatmaps(lanes[key], str(key) + \" heatmap\")"
   ]
  },
  {
   "cell_type": "markdown",
   "id": "b2f79907",
   "metadata": {},
   "source": [
    "### Modeling"
   ]
  },
  {
   "cell_type": "code",
   "execution_count": null,
   "id": "a69b9c11",
   "metadata": {},
   "outputs": [],
   "source": [
    "from matplotlib.gridspec import GridSpec\n",
    "from sklearn.model_selection import train_test_split\n",
    "from sklearn.preprocessing import StandardScaler, LabelEncoder\n",
    "from sklearn.linear_model import LogisticRegression\n",
    "from sklearn.ensemble import RandomForestClassifier\n",
    "from sklearn.discriminant_analysis import LinearDiscriminantAnalysis, QuadraticDiscriminantAnalysis\n",
    "from sklearn import metrics\n",
    "from sklearn.inspection import permutation_importance"
   ]
  },
  {
   "cell_type": "markdown",
   "id": "46f6fe95",
   "metadata": {},
   "source": [
    "#### Standardize Data"
   ]
  },
  {
   "cell_type": "code",
   "execution_count": null,
   "id": "d67f70ea",
   "metadata": {},
   "outputs": [],
   "source": [
    "def standardize_df(df):\n",
    "    scaler = StandardScaler()\n",
    "    return pd.concat([df.iloc[:, 0:index], pd.DataFrame(scaler.fit_transform(df.iloc[:,1:]), columns = df.iloc[:,1:].columns)], axis = 1)"
   ]
  },
  {
   "cell_type": "code",
   "execution_count": null,
   "id": "c4bf2e2a",
   "metadata": {
    "scrolled": true
   },
   "outputs": [],
   "source": [
    "# standardize numeric columns for team\n",
    "team2023.values[:] = StandardScaler().fit_transform(team2023)\n",
    "#st_team = standardize_df(team)"
   ]
  },
  {
   "cell_type": "markdown",
   "id": "25b11250-38ca-470a-b02e-e13ebcb6a6c9",
   "metadata": {
    "jp-MarkdownHeadingCollapsed": true
   },
   "source": [
    "#### Champion IDs"
   ]
  },
  {
   "cell_type": "code",
   "execution_count": null,
   "id": "029d28b2-72a6-4a0e-8b70-34674509022b",
   "metadata": {},
   "outputs": [],
   "source": [
    "all_champion_id = {\n",
    "        1: 'Annie',\n",
    "        2: 'Olaf',\n",
    "        3: 'Galio',\n",
    "        4: 'Twisted Fate',\n",
    "        5: 'Xin Zhao',\n",
    "        6: 'Urgot',\n",
    "        7: 'LeBlanc',\n",
    "        8: 'Vladimir',\n",
    "        9: 'Fiddlesticks',\n",
    "        10: 'Kayle',\n",
    "        11: 'Master Yi',\n",
    "        12: 'Alistar',\n",
    "        13: 'Ryze',\n",
    "        14: 'Sion',\n",
    "        15: 'Sivir',\n",
    "        16: 'Soraka',\n",
    "        17: 'Teemo',\n",
    "        18: 'Tristana',\n",
    "        19: 'Warwick',\n",
    "        20: 'Nunu & Willump',\n",
    "        21: 'Miss Fortune',\n",
    "        22: 'Ashe',\n",
    "        23: 'Tryndamere',\n",
    "        24: 'Jax',\n",
    "        25: 'Morgana',\n",
    "        26: 'Zilean',\n",
    "        27: 'Singed',\n",
    "        28: 'Evelynn',\n",
    "        29: 'Twitch',\n",
    "        30: 'Karthus',\n",
    "        31: \"Cho'Gath\",\n",
    "        32: 'Amumu',\n",
    "        33: 'Rammus',\n",
    "        34: 'Anivia',\n",
    "        35: 'Shaco',\n",
    "        36: 'Dr. Mundo',\n",
    "        37: 'Sona',\n",
    "        38: 'Kassadin',\n",
    "        39: 'Irelia',\n",
    "        40: 'Janna',\n",
    "        41: 'Gangplank',\n",
    "        42: 'Corki',\n",
    "        43: 'Karma',\n",
    "        44: 'Taric',\n",
    "        45: 'Veigar',\n",
    "        48: 'Trundle',\n",
    "        50: 'Swain',\n",
    "        51: 'Caitlyn',\n",
    "        53: 'Blitzcrank',\n",
    "        54: 'Malphite',\n",
    "        55: 'Katarina',\n",
    "        56: 'Nocturne',\n",
    "        57: 'Maokai',\n",
    "        58: 'Renekton',\n",
    "        59: 'Jarvan IV',\n",
    "        60: 'Elise',\n",
    "        61: 'Orianna',\n",
    "        62: 'Wukong',\n",
    "        63: 'Brand',\n",
    "        64: 'Lee Sin',\n",
    "        67: 'Vayne',\n",
    "        68: 'Rumble',\n",
    "        69: 'Cassiopeia',\n",
    "        72: 'Skarner',\n",
    "        74: 'Heimerdinger',\n",
    "        75: 'Nasus',\n",
    "        76: 'Nidalee',\n",
    "        77: 'Udyr',\n",
    "        78: 'Poppy',\n",
    "        79: 'Gragas',\n",
    "        80: 'Pantheon',\n",
    "        81: 'Ezreal',\n",
    "        82: 'Mordekaiser',\n",
    "        83: 'Yorick',\n",
    "        84: 'Akali',\n",
    "        85: 'Kennen',\n",
    "        86: 'Garen',\n",
    "        89: 'Leona',\n",
    "        90: 'Malzahar',\n",
    "        91: 'Talon',\n",
    "        92: 'Riven',\n",
    "        96: \"Kog'Maw\",\n",
    "        98: 'Shen',\n",
    "        99: 'Lux',\n",
    "        101: 'Xerath',\n",
    "        102: 'Shyvana',\n",
    "        103: 'Ahri',\n",
    "        104: 'Graves',\n",
    "        105: 'Fizz',\n",
    "        106: 'Volibear',\n",
    "        107: 'Rengar',\n",
    "        110: 'Varus',\n",
    "        111: 'Nautilus',\n",
    "        112: 'Viktor',\n",
    "        113: 'Sejuani',\n",
    "        114: 'Fiora',\n",
    "        115: 'Ziggs',\n",
    "        117: 'Lulu',\n",
    "        119: 'Draven',\n",
    "        120: 'Hecarim',\n",
    "        121: \"Kha'Zix\",\n",
    "        122: 'Darius',\n",
    "        126: 'Jayce',\n",
    "        127: 'Lissandra',\n",
    "        131: 'Diana',\n",
    "        133: 'Quinn',\n",
    "        134: 'Syndra',\n",
    "        136: 'Aurelion Sol',\n",
    "        141: 'Kayn',\n",
    "        142: 'Zoe',\n",
    "        143: 'Zyra',\n",
    "        145: \"Kai'Sa\",\n",
    "        147: \"Seraphine\",\n",
    "        150: 'Gnar',\n",
    "        154: 'Zac',\n",
    "        157: 'Yasuo',\n",
    "        161: \"Vel'Koz\",\n",
    "        163: 'Taliyah',\n",
    "        166: \"Akshan\",\n",
    "        164: 'Camille',\n",
    "        201: 'Braum',\n",
    "        202: 'Jhin',\n",
    "        203: 'Kindred',\n",
    "        222: 'Jinx',\n",
    "        223: 'Tahm Kench',\n",
    "        234: 'Viego',\n",
    "        235: 'Senna',\n",
    "        236: 'Lucian',\n",
    "        238: 'Zed',\n",
    "        240: 'Kled',\n",
    "        245: 'Ekko',\n",
    "        246: 'Qiyana',\n",
    "        254: 'Vi',\n",
    "        266: 'Aatrox',\n",
    "        267: 'Nami',\n",
    "        268: 'Azir',\n",
    "        350: 'Yuumi',\n",
    "        360: 'Samira',\n",
    "        412: 'Thresh',\n",
    "        420: 'Illaoi',\n",
    "        421: \"Rek'Sai\",\n",
    "        427: 'Ivern',\n",
    "        429: 'Kalista',\n",
    "        432: 'Bard',\n",
    "        497: 'Rakan',\n",
    "        498: 'Xayah',\n",
    "        516: 'Ornn',\n",
    "        517: 'Sylas',\n",
    "        526: 'Rell',\n",
    "        518: 'Neeko',\n",
    "        523: 'Aphelios',\n",
    "        555: 'Pyke',\n",
    "        875: \"Sett\",\n",
    "        711: \"Vex\",\n",
    "        777: \"Yone\",\n",
    "        887: \"Gwen\",\n",
    "        876: \"Lillia\",\n",
    "        877: \"Zeri\",\n",
    "        878: \"Renata Glasc\",\n",
    "        879: \"Bel'Veth\",\n",
    "        880: \"Nilah\",\n",
    "        881: \"K'Sante\",\n",
    "        882: \"Milio\",\n",
    "        883: \"Naafiri\",\n",
    "        884: \"Briar\",\n",
    "        885: \"Hwei\",\n",
    "        886: \"Smolder\"\n",
    "    }\n",
    "\n",
    "champion_list = list(all_champion_id.values())"
   ]
  },
  {
   "cell_type": "markdown",
   "id": "87ba2e2c",
   "metadata": {},
   "source": [
    "#### Separating the predictors and outcome variables"
   ]
  },
  {
   "cell_type": "code",
   "execution_count": null,
   "id": "d457618c-4f75-421d-b356-d8a34f658509",
   "metadata": {},
   "outputs": [],
   "source": [
    "le1 = LabelEncoder()\n",
    "le2 = LabelEncoder()\n",
    "unique_teamnames = team2023['teamname'].unique()\n",
    "\n",
    "le1.fit(unique_teamnames)\n",
    "le2.fit(champion_list)\n",
    "\n",
    "\n",
    "vals = le1.transform(unique_teamnames)\n",
    "champion_vals = le2.transform(champion_list)"
   ]
  },
  {
   "cell_type": "code",
   "execution_count": null,
   "id": "00efd8d2-9f70-44b6-a3af-0a8a6c5674b5",
   "metadata": {
    "scrolled": true
   },
   "outputs": [],
   "source": [
    "team_dict = { k:v for (k,v) in zip(le1.classes_, vals)}  \n",
    "team2023['teamname'].replace(to_replace=team_dict, inplace=True)\n",
    "team2023['oppteamname'].replace(to_replace=team_dict, inplace=True)\n",
    "\n",
    "champ_dict = { k:v for (k,v) in zip(le2.classes_, champion_vals)} \n",
    "team2023['champ1'].replace(to_replace=champ_dict, inplace=True)\n",
    "team2023['champ2'].replace(to_replace=champ_dict, inplace=True)\n",
    "team2023['champ3'].replace(to_replace=champ_dict, inplace=True)\n",
    "team2023['champ4'].replace(to_replace=champ_dict, inplace=True)\n",
    "team2023['champ5'].replace(to_replace=champ_dict, inplace=True)\n",
    "team2023['oppchamp1'].replace(to_replace=champ_dict, inplace=True)\n",
    "team2023['oppchamp2'].replace(to_replace=champ_dict, inplace=True)\n",
    "team2023['oppchamp3'].replace(to_replace=champ_dict, inplace=True)\n",
    "team2023['oppchamp4'].replace(to_replace=champ_dict, inplace=True)\n",
    "team2023['oppchamp5'].replace(to_replace=champ_dict, inplace=True)\n"
   ]
  },
  {
   "cell_type": "markdown",
   "id": "44d7cf11-55a4-42d4-9fe0-082279b6f77b",
   "metadata": {},
   "source": [
    "### 2024 modeling"
   ]
  },
  {
   "cell_type": "code",
   "execution_count": null,
   "id": "17ce1ce5-baed-4db8-8c3d-0f2b0df204c0",
   "metadata": {},
   "outputs": [],
   "source": [
    "le1 = LabelEncoder()\n",
    "le2 = LabelEncoder()\n",
    "unique_teamnames = team2024['teamname'].unique()\n",
    "\n",
    "le1.fit(unique_teamnames)\n",
    "le2.fit(champion_list)\n",
    "\n",
    "\n",
    "vals = le1.transform(unique_teamnames)\n",
    "champion_vals = le2.transform(champion_list)"
   ]
  },
  {
   "cell_type": "code",
   "execution_count": null,
   "id": "ff59ca05-39ce-4fdf-8722-b40ddaeafe8b",
   "metadata": {},
   "outputs": [],
   "source": [
    "team_dict = { k:v for (k,v) in zip(le1.classes_, vals)}  \n",
    "team2024['teamname'].replace(to_replace=team_dict, inplace=True)\n",
    "team2024['oppteamname'].replace(to_replace=team_dict, inplace=True)\n",
    "\n",
    "champ_dict = { k:v for (k,v) in zip(le2.classes_, champion_vals)} \n",
    "team2024['champ1'].replace(to_replace=champ_dict, inplace=True)\n",
    "team2024['champ2'].replace(to_replace=champ_dict, inplace=True)\n",
    "team2024['champ3'].replace(to_replace=champ_dict, inplace=True)\n",
    "team2024['champ4'].replace(to_replace=champ_dict, inplace=True)\n",
    "team2024['champ5'].replace(to_replace=champ_dict, inplace=True)\n",
    "team2024['oppchamp1'].replace(to_replace=champ_dict, inplace=True)\n",
    "team2024['oppchamp2'].replace(to_replace=champ_dict, inplace=True)\n",
    "team2024['oppchamp3'].replace(to_replace=champ_dict, inplace=True)\n",
    "team2024['oppchamp4'].replace(to_replace=champ_dict, inplace=True)\n",
    "team2024['oppchamp5'].replace(to_replace=champ_dict, inplace=True)"
   ]
  },
  {
   "cell_type": "code",
   "execution_count": null,
   "id": "96a492a6-e959-4b51-aee3-29acc5c0f22d",
   "metadata": {},
   "outputs": [],
   "source": [
    "team2024\n",
    "team2024.drop('side', axis=1)"
   ]
  },
  {
   "cell_type": "markdown",
   "id": "00d266b8-2cec-45fa-9e79-bea0969e2b9f",
   "metadata": {},
   "source": [
    "### Splitting data"
   ]
  },
  {
   "cell_type": "code",
   "execution_count": null,
   "id": "a7e32628",
   "metadata": {},
   "outputs": [],
   "source": [
    "xteam, yteam = team2023.iloc[:, 1:], team2023[\"result\"]"
   ]
  },
  {
   "cell_type": "code",
   "execution_count": null,
   "id": "dbff67d4-005f-45fa-95bc-1c4a8be2adfb",
   "metadata": {},
   "outputs": [],
   "source": [
    "team2023"
   ]
  },
  {
   "cell_type": "markdown",
   "id": "40108961",
   "metadata": {},
   "source": [
    "#### Splitting Data 80/20"
   ]
  },
  {
   "cell_type": "code",
   "execution_count": null,
   "id": "59d4962d",
   "metadata": {},
   "outputs": [],
   "source": [
    "xteam_train, xteam_test, yteam_train, yteam_test = train_test_split(xteam, yteam, test_size = 0.2, random_state = 0)"
   ]
  },
  {
   "cell_type": "markdown",
   "id": "3b844536",
   "metadata": {},
   "source": [
    "#### Create Function to help with Modeling"
   ]
  },
  {
   "cell_type": "code",
   "execution_count": null,
   "id": "8e5d925c",
   "metadata": {},
   "outputs": [],
   "source": [
    "# prints out a model's classification report, confusion matrix, and AUCROC curve\n",
    "def evaluate_model(model, xtrain, ytrain, xtest, ytest, digits = 4, title = \"Data\", folderpath = \"./\"):\n",
    "    \n",
    "    # get predictions\n",
    "    yhattrain = model.predict(xtrain)\n",
    "    yhattest = model.predict(xtest)\n",
    "\n",
    "    # Classification Reports\n",
    "    \n",
    "    print(\"CLASSIFICATION REPORT FOR TRAINING DATA\")\n",
    "    print(metrics.classification_report(ytrain, yhattrain, digits = digits))\n",
    "    \n",
    "    print(\"CLASSIFICATION REPORT FOR TEST DATA\")\n",
    "    print(metrics.classification_report(ytest, yhattest, digits = digits))\n",
    "    \n",
    "    # make confusion matrix\n",
    "    cmat = metrics.confusion_matrix(ytest, yhattest)\n",
    "    \n",
    "    fig = plt.figure(figsize=(13, 13))\n",
    "    gs = GridSpec(nrows=2, ncols=2)\n",
    "\n",
    "    ax0 = fig.add_subplot(gs[0, 0])\n",
    "    ax1 = fig.add_subplot(gs[1, 0])\n",
    "    ax2 = fig.add_subplot(gs[:, 1])\n",
    "    \n",
    "    # show confusion matrix\n",
    "    sns.heatmap(cmat, ax = ax0, annot = True, cmap = \"Blues\")\n",
    "    ax0.set_xlabel(\"Predicted Wins\")\n",
    "    ax0.set_ylabel(\"Actual Wins\")\n",
    "    ax0.set_title(\"Confusion Matrix For \" + title)\n",
    "    \n",
    "    # show ROC curve\n",
    "    yhat_prob = model.predict_proba(xtest)[::,1]\n",
    "    fpr, tpr, _ = metrics.roc_curve(ytest,  yhat_prob)\n",
    "    auc = metrics.roc_auc_score(ytest, yhat_prob)\n",
    "    ax2.grid()\n",
    "    ax2.plot(fpr, tpr, label = \"Model Auc = \" + str(auc))\n",
    "    ax2.set_ylabel(\"True Positive Rate\")\n",
    "    ax2.set_xlabel(\"False Positive Rate\")\n",
    "    ax2.set_title(\"ROC AUC Curve For \" + title)\n",
    "    ax2.legend(loc = 4)\n",
    "    \n",
    "    # show importance plot\n",
    "    permutation_results = permutation_importance(model, xtrain, ytrain)\n",
    "    sorted_indices = permutation_results.importances_mean.argsort()\n",
    "    ax1.barh(xtrain.columns[sorted_indices], permutation_results.importances[sorted_indices].mean(axis = 1).T)\n",
    "    ax1.set_title(\"Permutation Importance For \" + title)\n",
    "    plt.savefig(folderpath + title + \".png\")\n",
    "    plt.show()"
   ]
  },
  {
   "cell_type": "code",
   "execution_count": null,
   "id": "afe4553c",
   "metadata": {},
   "outputs": [],
   "source": [
    "# fits model on training data and displays everything from evalulate_model function\n",
    "def fit_eval(model, xtrain, ytrain, xtest, ytest, digits = 4, title = \"Data\", folderpath = \"./\"):\n",
    "    model.fit(xtrain, ytrain)\n",
    "    evaluate_model(model, xtrain, ytrain, xtest, ytest, digits = 4, title = title, folderpath = folderpath)\n",
    "    return model"
   ]
  },
  {
   "cell_type": "code",
   "execution_count": null,
   "id": "7f71f016",
   "metadata": {},
   "outputs": [],
   "source": [
    "# create dataframe to store scores\n",
    "df_scores = pd.DataFrame(columns = [\"Model\", \"Lane\", \"Accuracy\", \"AUCROC\"])"
   ]
  },
  {
   "cell_type": "markdown",
   "id": "e04942b4",
   "metadata": {},
   "source": [
    "#### Logistic Regression"
   ]
  },
  {
   "cell_type": "code",
   "execution_count": null,
   "id": "c800318d",
   "metadata": {
    "scrolled": true
   },
   "outputs": [],
   "source": [
    "from sklearn.model_selection import RandomizedSearchCV\n",
    "\n",
    "clf = LogisticRegression(random_state = 213)\n",
    "\n",
    "\n",
    "log_params = {'penalty': ['l2'], 'C': [1E-7, 1E-6, 1E-6, 1E-4, 1E-3]}\n",
    "#clf = LogisticRegression()\n",
    "search = RandomizedSearchCV(clf, scoring='average_precision', cv=10,\n",
    "                            n_iter=10, param_distributions=log_params,\n",
    "                            refit=True, n_jobs=-1)\n",
    "search.fit(xteam_train, yteam_train)\n",
    "clf = search.best_estimator_\n",
    "\n",
    "fit_eval(clf, xteam_train, yteam_train, xteam_test, yteam_test, title = \"Team Data\", folderpath = \"./LR./\")\n"
   ]
  },
  {
   "cell_type": "code",
   "execution_count": null,
   "id": "f42345a7",
   "metadata": {},
   "outputs": [],
   "source": [
    "from sklearn.model_selection import cross_val_score, KFold\n",
    "n_splits = 5\n",
    "kf = KFold(n_splits=n_splits, shuffle=True)\n",
    "\n",
    "scores = cross_val_score(clf, xteam_train, yteam_train, cv=5)\n",
    "scores"
   ]
  },
  {
   "cell_type": "code",
   "execution_count": null,
   "id": "1c4f358d-333b-43d2-910d-ed0f5b7dcaca",
   "metadata": {},
   "outputs": [],
   "source": [
    "clf"
   ]
  },
  {
   "cell_type": "markdown",
   "id": "cd68db9c",
   "metadata": {},
   "source": [
    "Now that we have put everything into one data frame, let's look at difference aspects."
   ]
  },
  {
   "cell_type": "code",
   "execution_count": null,
   "id": "ad441a10",
   "metadata": {},
   "outputs": [],
   "source": [
    "xteam2024, yteam2024 = team2024.iloc[:, 1:], team2024[\"result\"]"
   ]
  },
  {
   "cell_type": "code",
   "execution_count": null,
   "id": "815afbf9-5f1a-4f6d-899b-2a993e8affa1",
   "metadata": {},
   "outputs": [],
   "source": [
    "# prints out a model's classification report, confusion matrix, and AUCROC curve\n",
    "def validate_model(model, xval, yval, digits = 4, title = \"Data\", folderpath = \"./\"):\n",
    "    \n",
    "    # get predictions\n",
    "    yhatval = model.predict(xval)\n",
    "\n",
    "    # Classification Reports\n",
    "    print(\"CLASSIFICATION REPORT FOR VALIDATION DATA\")\n",
    "    print(metrics.classification_report(yval, yhatval, digits = digits))\n",
    "    \n",
    "    # make confusion matrix\n",
    "    cmat = metrics.confusion_matrix(yval, yhatval)\n",
    "    \n",
    "    fig = plt.figure(figsize=(13, 13))\n",
    "    gs = GridSpec(nrows=2, ncols=2)\n",
    "\n",
    "    ax0 = fig.add_subplot(gs[0, 0])\n",
    "    ax1 = fig.add_subplot(gs[1, 0])\n",
    "    ax2 = fig.add_subplot(gs[:, 1])\n",
    "    \n",
    "    # show confusion matrix\n",
    "    sns.heatmap(cmat, ax = ax0, annot = True, cmap = \"Blues\")\n",
    "    ax0.set_xlabel(\"Predicted Wins\")\n",
    "    ax0.set_ylabel(\"Actual Wins\")\n",
    "    ax0.set_title(\"Confusion Matrix For \" + title)\n",
    "    \n",
    "    # show importance plot\n",
    "    permutation_results = permutation_importance(model, xval, yval)\n",
    "    sorted_indices = permutation_results.importances_mean.argsort()\n",
    "    ax1.barh(xval.columns[sorted_indices], permutation_results.importances[sorted_indices].mean(axis = 1).T)\n",
    "    ax1.set_title(\"Permutation Importance For \" + title)\n",
    "    plt.savefig(folderpath + title + \".png\")\n",
    "    plt.show()"
   ]
  },
  {
   "cell_type": "code",
   "execution_count": null,
   "id": "860855de-6619-4f58-88cc-af64a609a3ea",
   "metadata": {},
   "outputs": [],
   "source": [
    "validate_model(clf, xteam2024, yteam2024)"
   ]
  },
  {
   "cell_type": "markdown",
   "id": "ab8ccd57",
   "metadata": {},
   "source": [
    "Can we sort by accuracy?"
   ]
  },
  {
   "cell_type": "code",
   "execution_count": null,
   "id": "ae9973ee",
   "metadata": {},
   "outputs": [],
   "source": [
    "df_scores.sort_values(\"Accuracy\", ascending = False)"
   ]
  },
  {
   "cell_type": "markdown",
   "id": "ea0477cb",
   "metadata": {},
   "source": [
    "What are the most accurate models by lane?"
   ]
  },
  {
   "cell_type": "code",
   "execution_count": null,
   "id": "03945086",
   "metadata": {},
   "outputs": [],
   "source": [
    "df_scores.groupby(\"Lane\").idxmax()"
   ]
  },
  {
   "cell_type": "code",
   "execution_count": null,
   "id": "822ab4fe",
   "metadata": {},
   "outputs": [],
   "source": [
    "df_scores.loc[:]"
   ]
  },
  {
   "cell_type": "markdown",
   "id": "7e51db4b",
   "metadata": {},
   "source": [
    "What are the most accurate models?"
   ]
  },
  {
   "cell_type": "code",
   "execution_count": null,
   "id": "ed7a8525",
   "metadata": {},
   "outputs": [],
   "source": [
    "df_scores.groupby(\"Model\").mean().sort_values(\"Accuracy\", ascending = False)"
   ]
  },
  {
   "cell_type": "markdown",
   "id": "fa137e4b",
   "metadata": {},
   "source": [
    "Which lane was the most accurate?"
   ]
  },
  {
   "cell_type": "code",
   "execution_count": null,
   "id": "c9294cc3",
   "metadata": {},
   "outputs": [],
   "source": [
    "df_scores.groupby(\"Lane\").mean().sort_values(\"Accuracy\", ascending = False)"
   ]
  },
  {
   "cell_type": "code",
   "execution_count": null,
   "id": "110dad87",
   "metadata": {},
   "outputs": [],
   "source": []
  }
 ],
 "metadata": {
  "kernelspec": {
   "display_name": "Python 3 (ipykernel)",
   "language": "python",
   "name": "python3"
  },
  "language_info": {
   "codemirror_mode": {
    "name": "ipython",
    "version": 3
   },
   "file_extension": ".py",
   "mimetype": "text/x-python",
   "name": "python",
   "nbconvert_exporter": "python",
   "pygments_lexer": "ipython3",
   "version": "3.11.3"
  }
 },
 "nbformat": 4,
 "nbformat_minor": 5
}
